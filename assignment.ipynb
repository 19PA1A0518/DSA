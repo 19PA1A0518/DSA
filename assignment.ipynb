{
  "nbformat": 4,
  "nbformat_minor": 0,
  "metadata": {
    "colab": {
      "name": "Untitled1.ipynb",
      "provenance": [],
      "authorship_tag": "ABX9TyPSzTHMs0NFsrKhYW1ABe6/",
      "include_colab_link": true
    },
    "kernelspec": {
      "name": "python3",
      "display_name": "Python 3"
    }
  },
  "cells": [
    {
      "cell_type": "markdown",
      "metadata": {
        "id": "view-in-github",
        "colab_type": "text"
      },
      "source": [
        "<a href=\"https://colab.research.google.com/github/19PA1A0518/DSA/blob/master/assignment.ipynb\" target=\"_parent\"><img src=\"https://colab.research.google.com/assets/colab-badge.svg\" alt=\"Open In Colab\"/></a>"
      ]
    },
    {
      "cell_type": "markdown",
      "metadata": {
        "id": "pMwk5O-dhpc-",
        "colab_type": "text"
      },
      "source": [
        "# **1.program to find the given number is a perfect number or not**"
      ]
    },
    {
      "cell_type": "code",
      "metadata": {
        "id": "b9PUXcw0iOkt",
        "colab_type": "code",
        "colab": {
          "base_uri": "https://localhost:8080/",
          "height": 50
        },
        "outputId": "89addb97-2d12-4a74-ad2a-9d4dd20ef5b9"
      },
      "source": [
        "a=int(input(\"enter the number\"))\n",
        "b=0\n",
        "for i in range (1,a):\n",
        "  if (a%i==0):\n",
        "    b=b+i\n",
        "if(b==a):\n",
        "  print(a,\"is a perfect number\")\n",
        "else:\n",
        "  print(a,\"is not a perfect number\")"
      ],
      "execution_count": 2,
      "outputs": [
        {
          "output_type": "stream",
          "text": [
            "enter the number2554\n",
            "2554 is not a perfect number\n"
          ],
          "name": "stdout"
        }
      ]
    },
    {
      "cell_type": "markdown",
      "metadata": {
        "id": "YabuDShujr7H",
        "colab_type": "text"
      },
      "source": [
        "# 2.program to find the given number is a strong number or not"
      ]
    },
    {
      "cell_type": "code",
      "metadata": {
        "id": "IwE5ewMTj-cN",
        "colab_type": "code",
        "colab": {
          "base_uri": "https://localhost:8080/",
          "height": 50
        },
        "outputId": "d8379df0-4023-48ee-ff85-ec4cc0b2c74a"
      },
      "source": [
        "a=int(input(\"enter the number\"))\n",
        "b=0\n",
        "c=a\n",
        "while (a):\n",
        "  f=1\n",
        "  i=1\n",
        "  r=a%10\n",
        "  while (i<=r):\n",
        "    f=f*i\n",
        "    i=i+1\n",
        "  b=b+f\n",
        "  a=a//10\n",
        "if (b==c):\n",
        "  print(\"given number is a strong number\")\n",
        "else:\n",
        "  print(\"given number is not a strong number\")"
      ],
      "execution_count": 3,
      "outputs": [
        {
          "output_type": "stream",
          "text": [
            "enter the number145\n",
            "given number is a strong number\n"
          ],
          "name": "stdout"
        }
      ]
    }
  ]
}